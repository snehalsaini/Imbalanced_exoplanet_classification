{
  "nbformat": 4,
  "nbformat_minor": 0,
  "metadata": {
    "colab": {
      "name": "Anomaly Detection.ipynb",
      "provenance": []
    },
    "kernelspec": {
      "name": "python3",
      "display_name": "Python 3"
    },
    "language_info": {
      "name": "python"
    }
  },
  "cells": [
    {
      "cell_type": "code",
      "execution_count": null,
      "metadata": {
        "id": "kFSmjLU4BDVn"
      },
      "outputs": [],
      "source": [
        "# Standard libraries\n",
        "import pandas as pd\n",
        "import numpy as np\n",
        "import pickle\n",
        "\n",
        "# Visualization Libraries\n",
        "import matplotlib.pyplot as plt\n",
        "import seaborn as sns\n",
        "import missingno as msno\n",
        "from IPython.core.display import display, HTML\n",
        "sns.set()\n",
        "%matplotlib inline\n",
        "\n",
        "# Sklearn-preprocessing\n",
        "from sklearn.impute import SimpleImputer\n",
        "from sklearn.preprocessing import StandardScaler\n",
        "from sklearn.experimental import enable_iterative_imputer  \n",
        "from sklearn.impute import IterativeImputer\n",
        "from sklearn import preprocessing\n",
        "from sklearn.preprocessing import MinMaxScaler\n",
        "from sklearn.model_selection import train_test_split, cross_validate\n",
        "from imblearn.over_sampling import SMOTE, ADASYN\n",
        "from sklearn.utils import class_weight\n",
        "#from category_encoders import TargetEncoder\n",
        "\n",
        "\n",
        "# Machine Learning Algorithms\n",
        "import xgboost as xgb\n",
        "from sklearn.neighbors import KNeighborsClassifier\n",
        "from sklearn.linear_model import LogisticRegression\n",
        "from sklearn.model_selection import GridSearchCV, RandomizedSearchCV\n",
        "from sklearn.svm import SVC, LinearSVC\n",
        "from sklearn.tree import DecisionTreeClassifier\n",
        "from sklearn.naive_bayes import GaussianNB, BernoulliNB\n",
        "from sklearn.ensemble import (RandomForestClassifier, GradientBoostingClassifier, BaggingClassifier, IsolationForest,\n",
        "                              RandomForestRegressor, AdaBoostClassifier, VotingClassifier, ExtraTreesClassifier)\n",
        "from sklearn.linear_model import Perceptron\n",
        "\n",
        "\n",
        "# Performance metrics\n",
        "from sklearn.model_selection import cross_val_score, KFold\n",
        "from sklearn.metrics import accuracy_score, make_scorer, balanced_accuracy_score\n",
        "from sklearn.metrics import precision_recall_fscore_support as score\n",
        "from sklearn.metrics import roc_curve, auc, confusion_matrix, roc_auc_score\n",
        "from sklearn.metrics import precision_score, recall_score, precision_recall_curve,f1_score, fbeta_score\n",
        "\n",
        "import warnings\n",
        "warnings.filterwarnings('ignore')"
      ]
    },
    {
      "cell_type": "code",
      "source": [
        "# Mounting the Drive to Google colab\n",
        "from google.colab import drive\n",
        "drive.mount('/content/drive')"
      ],
      "metadata": {
        "colab": {
          "base_uri": "https://localhost:8080/"
        },
        "id": "NkPKzPjJE0wX",
        "outputId": "f276febc-95dd-4b37-9a76-7583b3909864"
      },
      "execution_count": null,
      "outputs": [
        {
          "output_type": "stream",
          "name": "stdout",
          "text": [
            "Mounted at /content/drive\n"
          ]
        }
      ]
    },
    {
      "cell_type": "code",
      "source": [
        "planets_c = pd.read_csv(\"/content/drive/My Drive/Colab Notebooks/Planet_data.csv\", index_col='rowid')"
      ],
      "metadata": {
        "id": "BYHrL-XTBYvX"
      },
      "execution_count": null,
      "outputs": []
    },
    {
      "cell_type": "code",
      "source": [
        "planets_c.info()"
      ],
      "metadata": {
        "id": "-OGz24WtE9eS"
      },
      "execution_count": null,
      "outputs": []
    },
    {
      "cell_type": "code",
      "source": [
        "y = planets_c.loc[:, 'habitable'] \n",
        "\n",
        "y.value_counts()"
      ],
      "metadata": {
        "colab": {
          "base_uri": "https://localhost:8080/"
        },
        "id": "ojZ6GLCVYNjz",
        "outputId": "4ec1e546-1eff-4f9d-eb26-e269be297768"
      },
      "execution_count": null,
      "outputs": [
        {
          "output_type": "execute_result",
          "data": {
            "text/plain": [
              "False    113\n",
              "True       4\n",
              "Name: habitable, dtype: int64"
            ]
          },
          "metadata": {},
          "execution_count": 6
        }
      ]
    },
    {
      "cell_type": "code",
      "source": [
        "# Basic validation: splitting the data 60 - 20 - 20 train/val/test\n",
        "X_train, X_test, y_train, y_test = train_test_split(planets_c.iloc[:, :-1], planets_c.loc[:, 'habitable'], test_size=0.25,random_state=76)\n",
        "X_train.shape \n",
        "# shape of my train set"
      ],
      "metadata": {
        "colab": {
          "base_uri": "https://localhost:8080/"
        },
        "id": "p_7YLxn1B7fh",
        "outputId": "2b63c943-8026-40bc-a889-b50db4cf0a71"
      },
      "execution_count": null,
      "outputs": [
        {
          "output_type": "execute_result",
          "data": {
            "text/plain": [
              "(87, 56)"
            ]
          },
          "metadata": {},
          "execution_count": 7
        }
      ]
    },
    {
      "cell_type": "markdown",
      "source": [
        "Anomaly Detection"
      ],
      "metadata": {
        "id": "LnAzM_DSCDsv"
      }
    },
    {
      "cell_type": "code",
      "source": [
        "y_train.head()"
      ],
      "metadata": {
        "colab": {
          "base_uri": "https://localhost:8080/"
        },
        "id": "K3vyNgNDHKNi",
        "outputId": "eb23ecd2-dba5-473f-8e95-521ab313309e"
      },
      "execution_count": null,
      "outputs": [
        {
          "output_type": "execute_result",
          "data": {
            "text/plain": [
              "rowid\n",
              "814     False\n",
              "3957    False\n",
              "444     False\n",
              "2902     True\n",
              "1241    False\n",
              "Name: habitable, dtype: bool"
            ]
          },
          "metadata": {},
          "execution_count": 8
        }
      ]
    },
    {
      "cell_type": "code",
      "source": [
        "from sklearn.ensemble import IsolationForest\n",
        "clf = IsolationForest(max_samples=100, contamination=0.1, random_state=42)\n",
        "clf.fit(X_train)\n",
        "# predictions\n",
        "y_pred_train = clf.predict(X_train)\n",
        "y_pred_test = clf.predict(X_test)"
      ],
      "metadata": {
        "id": "mSNlb3GgFkMS"
      },
      "execution_count": null,
      "outputs": []
    },
    {
      "cell_type": "code",
      "source": [
        "y_pred_train\n",
        "np.place(y_pred_train, y_pred_train>0, [0])\n",
        "np.place(y_pred_train, y_pred_train<0, [1])"
      ],
      "metadata": {
        "colab": {
          "base_uri": "https://localhost:8080/"
        },
        "id": "VhR2Z8xrMXgM",
        "outputId": "71420cb2-e211-4cb2-cd5b-1c78946c6c45"
      },
      "execution_count": null,
      "outputs": [
        {
          "output_type": "execute_result",
          "data": {
            "text/plain": [
              "array([ 1, -1,  1, -1,  1,  1,  1,  1,  1,  1,  1,  1,  1,  1,  1, -1,  1,\n",
              "        1,  1,  1,  1,  1,  1,  1,  1,  1,  1,  1,  1,  1,  1,  1,  1,  1,\n",
              "        1,  1,  1,  1,  1,  1,  1,  1,  1,  1,  1,  1,  1, -1,  1,  1,  1,\n",
              "        1,  1,  1,  1,  1,  1,  1,  1,  1,  1, -1,  1,  1,  1,  1,  1,  1,\n",
              "        1,  1, -1,  1,  1, -1,  1,  1,  1,  1, -1, -1,  1,  1,  1,  1,  1,\n",
              "        1,  1])"
            ]
          },
          "metadata": {},
          "execution_count": 14
        }
      ]
    },
    {
      "cell_type": "code",
      "source": [
        "y_pred_test"
      ],
      "metadata": {
        "colab": {
          "base_uri": "https://localhost:8080/"
        },
        "id": "EmbvLNa7NrCj",
        "outputId": "d4172498-c3dc-4da1-bf2b-26bccd6a282d"
      },
      "execution_count": null,
      "outputs": [
        {
          "output_type": "execute_result",
          "data": {
            "text/plain": [
              "array([ 1,  1,  1,  1,  1,  1,  1,  1,  1,  1,  1,  1,  1,  1,  1,  1,  1,\n",
              "        1,  1, -1,  1,  1,  1,  1,  1,  1,  1,  1,  1,  1])"
            ]
          },
          "metadata": {},
          "execution_count": 16
        }
      ]
    },
    {
      "cell_type": "code",
      "source": [
        "#To convert '-1' values to 1 as they are the anomaly or poisitive class\n",
        "#convert '1' values to 0 since they are the negative class\n",
        "np.place(y_pred_test, y_pred_test>0, [0])\n",
        "np.place(y_pred_test, y_pred_test<0, [1])\n",
        "y_pred_test"
      ],
      "metadata": {
        "colab": {
          "base_uri": "https://localhost:8080/"
        },
        "id": "iJO1CvgKk0eY",
        "outputId": "b0d9d1e2-c4b0-48d8-cb07-c6bef552045f"
      },
      "execution_count": null,
      "outputs": [
        {
          "output_type": "execute_result",
          "data": {
            "text/plain": [
              "array([0, 0, 0, 0, 0, 0, 0, 0, 0, 0, 0, 0, 0, 0, 0, 0, 0, 0, 0, 1, 0, 0,\n",
              "       0, 0, 0, 0, 0, 0, 0, 0])"
            ]
          },
          "metadata": {},
          "execution_count": 17
        }
      ]
    },
    {
      "cell_type": "code",
      "source": [
        "y_test"
      ],
      "metadata": {
        "id": "N_ScU4QKNDc5"
      },
      "execution_count": null,
      "outputs": []
    },
    {
      "cell_type": "code",
      "source": [
        "conf = confusion_matrix(y_test, y_pred_test)\n",
        "\n",
        "def conf_matrix(x):\n",
        "    plt.figure(dpi=125)\n",
        "    sns.heatmap(x, cmap=plt.cm.Reds, annot=True, square=True,fmt='d',\n",
        "               xticklabels=['not habitable', 'habitable'],\n",
        "               yticklabels=['not habitable', 'habitable'])\n",
        "\n",
        "    plt.xlabel('Predicted planets')\n",
        "    plt.ylabel('Actual planets')\n",
        "conf_matrix(conf)\n",
        "plt.title('Confusion Matrix of Anomaly Detection')"
      ],
      "metadata": {
        "id": "El9WwQbULXlg",
        "colab": {
          "base_uri": "https://localhost:8080/",
          "height": 526
        },
        "outputId": "2cef5ee3-94ad-419f-c11b-0e0b6036399e"
      },
      "execution_count": null,
      "outputs": [
        {
          "output_type": "execute_result",
          "data": {
            "text/plain": [
              "Text(0.5, 1.0, 'Confusion Matrix of Anomaly Detection')"
            ]
          },
          "metadata": {},
          "execution_count": 18
        },
        {
          "output_type": "display_data",
          "data": {
            "text/plain": [
              "<Figure size 750x500 with 2 Axes>"
            ],
            "image/png": "[encoded data removed]"
          },
          "metadata": {
            "needs_background": "light"
          }
        }
      ]
    },
    {
      "cell_type": "code",
      "source": [
        "X_train"
      ],
      "metadata": {
        "id": "KOjVwF8cJ5ji"
      },
      "execution_count": null,
      "outputs": []
    },
    {
      "cell_type": "markdown",
      "source": [
        "SMOTE"
      ],
      "metadata": {
        "id": "epY8qJ8Wqqb7"
      }
    },
    {
      "cell_type": "code",
      "source": [
        "X_smoted, y_smoted = SMOTE( sampling_strategy='minority',k_neighbors=2, random_state=76).fit_resample(X_train, y_train)"
      ],
      "metadata": {
        "id": "uUUSbeqlpE1E"
      },
      "execution_count": null,
      "outputs": []
    },
    {
      "cell_type": "code",
      "source": [
        "X_smoted.shape"
      ],
      "metadata": {
        "colab": {
          "base_uri": "https://localhost:8080/"
        },
        "id": "omiD83QYpJp7",
        "outputId": "ca08cb68-ba84-48ea-bbb7-28f75ec494b6"
      },
      "execution_count": null,
      "outputs": [
        {
          "output_type": "execute_result",
          "data": {
            "text/plain": [
              "(168, 56)"
            ]
          },
          "metadata": {},
          "execution_count": 21
        }
      ]
    },
    {
      "cell_type": "code",
      "source": [
        "pd.Series(y_smoted).value_counts().plot.bar()"
      ],
      "metadata": {
        "colab": {
          "base_uri": "https://localhost:8080/",
          "height": 304
        },
        "id": "KoKR1eyrpMOj",
        "outputId": "49a3d3df-5057-4f21-85d1-5902efbf1fb0"
      },
      "execution_count": null,
      "outputs": [
        {
          "output_type": "execute_result",
          "data": {
            "text/plain": [
              "<matplotlib.axes._subplots.AxesSubplot at 0x7fd912fc3150>"
            ]
          },
          "metadata": {},
          "execution_count": 22
        },
        {
          "output_type": "display_data",
          "data": {
            "text/plain": [
              "<Figure size 432x288 with 1 Axes>"
            ],
            "image/png": "[encoded data removed]"
          },
          "metadata": {
            "needs_background": "light"
          }
        }
      ]
    },
    {
      "cell_type": "code",
      "source": [
        "# list to contain model and accuracy values\n",
        "eva_list = []\n",
        "# to contain model names\n",
        "models = []"
      ],
      "metadata": {
        "id": "4ecxylv6pd2t"
      },
      "execution_count": null,
      "outputs": []
    },
    {
      "cell_type": "code",
      "source": [
        "knn = KNeighborsClassifier(n_neighbors=5)\n",
        "knn.fit(X_smoted, y_smoted)\n",
        "y_pred = knn.predict(X_test)\n",
        "\n",
        "knn_acc = round(knn.score(X_smoted, y_smoted) * 100, 2)\n",
        "knn_acc_test = round(accuracy_score(y_test, y_pred) * 100, 2)\n",
        "print(f'Train Accuracy of KNN: % {knn_acc}')\n",
        "print(f'Test Accuracy of KNN: % {knn_acc_test}')\n",
        "\n",
        "# Get precision, recall, and f1\n",
        "precision, recall, f1, support = score(y_test, y_pred, average = 'macro')\n",
        "print(f'Precision : {precision}')\n",
        "print(f'Recall : {recall}')\n",
        "print(f'F1-score : {f1}')"
      ],
      "metadata": {
        "colab": {
          "base_uri": "https://localhost:8080/"
        },
        "id": "8p37EnaEphpY",
        "outputId": "7b9c3736-9e36-4e5c-85ef-8ea75f083fac"
      },
      "execution_count": null,
      "outputs": [
        {
          "output_type": "stream",
          "name": "stdout",
          "text": [
            "Train Accuracy of KNN: % 99.4\n",
            "Test Accuracy of KNN: % 100.0\n",
            "Precision : 1.0\n",
            "Recall : 1.0\n",
            "F1-score : 1.0\n"
          ]
        }
      ]
    },
    {
      "cell_type": "code",
      "source": [
        "conf_knn = confusion_matrix(y_test, y_pred)\n",
        "\n",
        "def conf_matrix(x):\n",
        "    plt.figure(dpi=125)\n",
        "    sns.heatmap(x, cmap=plt.cm.Reds, annot=True, square=True,fmt='d',\n",
        "               xticklabels=['not habitable', 'habitable'],\n",
        "               yticklabels=['not habitable', 'habitable'])\n",
        "\n",
        "    plt.xlabel('Predicted planets')\n",
        "    plt.ylabel('Actual planets')\n",
        "\n",
        "conf_matrix(conf_knn)\n",
        "plt.title('Confusion Matrix of KNN after applying SMOTE')"
      ],
      "metadata": {
        "colab": {
          "base_uri": "https://localhost:8080/",
          "height": 526
        },
        "id": "eBeZ9nL3pyAm",
        "outputId": "bb7afb2f-0bf8-4e38-8571-d657b0fa2366"
      },
      "execution_count": null,
      "outputs": [
        {
          "output_type": "execute_result",
          "data": {
            "text/plain": [
              "Text(0.5, 1.0, 'Confusion Matrix of KNN after applying SMOTE')"
            ]
          },
          "metadata": {},
          "execution_count": 27
        },
        {
          "output_type": "display_data",
          "data": {
            "text/plain": [
              "<Figure size 750x500 with 2 Axes>"
            ],
            "image/png": "[encoded data removed]"
          },
          "metadata": {
            "needs_background": "light"
          }
        }
      ]
    }
  ]
}